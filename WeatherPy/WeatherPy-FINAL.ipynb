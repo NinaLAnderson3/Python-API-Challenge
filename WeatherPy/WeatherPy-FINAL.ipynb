{
 "cells": [
  {
   "cell_type": "markdown",
   "metadata": {},
   "source": [
    "# WeatherPy\n",
    "----\n",
    "\n",
    "#### Note\n",
    "* Instructions have been included for each segment. You do not have to follow them exactly, but they are included to help you think through the steps."
   ]
  },
  {
   "cell_type": "code",
   "execution_count": 120,
   "metadata": {
    "scrolled": true
   },
   "outputs": [],
   "source": [
    "# Dependencies and Setup\n",
    "import matplotlib.pyplot as plt\n",
    "import pandas as pd\n",
    "import numpy as np\n",
    "import requests\n",
    "import time\n",
    "from scipy.stats import linregress\n",
    "from pprint import pprint\n",
    "\n",
    "# Import API key\n",
    "from api_keys import weather_api_key\n",
    "\n",
    "# Incorporated citipy to determine city based on latitude and longitude\n",
    "from citipy import citipy\n",
    "\n",
    "# Output File (CSV)\n",
    "output_data_file = \"output_data/cities.csv\"\n",
    "\n",
    "# Range of latitudes and longitudes\n",
    "lat_range = (-90, 90)\n",
    "lng_range = (-180, 180)"
   ]
  },
  {
   "cell_type": "markdown",
   "metadata": {},
   "source": [
    "## Generate Cities List"
   ]
  },
  {
   "cell_type": "code",
   "execution_count": 121,
   "metadata": {},
   "outputs": [
    {
     "data": {
      "text/plain": [
       "592"
      ]
     },
     "execution_count": 121,
     "metadata": {},
     "output_type": "execute_result"
    }
   ],
   "source": [
    "# List for holding lat_lngs and cities\n",
    "lat_lngs = []\n",
    "cities = []\n",
    "\n",
    "# Create a set of random lat and lng combinations\n",
    "lats = np.random.uniform(lat_range[0], lat_range[1], size=1500)\n",
    "lngs = np.random.uniform(lng_range[0], lng_range[1], size=1500)\n",
    "lat_lngs = zip(lats, lngs)\n",
    "\n",
    "# Identify nearest city for each lat, lng combination\n",
    "for lat_lng in lat_lngs:\n",
    "    city = citipy.nearest_city(lat_lng[0], lat_lng[1]).city_name\n",
    "    \n",
    "    # If the city is unique, then add it to a our cities list\n",
    "    if city not in cities:\n",
    "        cities.append(city)\n",
    "\n",
    "# Print the city count to confirm sufficient count\n",
    "len(cities)"
   ]
  },
  {
   "cell_type": "markdown",
   "metadata": {},
   "source": [
    "### Perform API Calls\n",
    "* Perform a weather check on each city using a series of successive API calls.\n",
    "* Include a print log of each city as it'sbeing processed (with the city number and city name).\n"
   ]
  },
  {
   "cell_type": "code",
   "execution_count": 122,
   "metadata": {
    "scrolled": true
   },
   "outputs": [
    {
     "name": "stdout",
     "output_type": "stream",
     "text": [
      "http://api.openweathermap.org/data/2.5/weather?appid=20023c24ba6fa76444d95a7c9bec5659&units=metric&q=\n"
     ]
    }
   ],
   "source": [
    "base_url = \"http://api.openweathermap.org/data/2.5/weather?\"\n",
    "units = \"metric\"\n",
    "query_url =f\"{base_url}appid={weather_api_key}&units={units}&q=\"\n",
    "print(query_url)"
   ]
  },
  {
   "cell_type": "code",
   "execution_count": 123,
   "metadata": {},
   "outputs": [
    {
     "name": "stdout",
     "output_type": "stream",
     "text": [
      "{'base': 'stations',\n",
      " 'clouds': {'all': 0},\n",
      " 'cod': 200,\n",
      " 'coord': {'lat': 51.51, 'lon': -0.13},\n",
      " 'dt': 1608043399,\n",
      " 'id': 2643743,\n",
      " 'main': {'feels_like': 8.12,\n",
      "          'humidity': 76,\n",
      "          'pressure': 1007,\n",
      "          'temp': 11,\n",
      "          'temp_max': 12,\n",
      "          'temp_min': 10},\n",
      " 'name': 'London',\n",
      " 'sys': {'country': 'GB',\n",
      "         'id': 1414,\n",
      "         'sunrise': 1608019209,\n",
      "         'sunset': 1608047498,\n",
      "         'type': 1},\n",
      " 'timezone': 0,\n",
      " 'visibility': 10000,\n",
      " 'weather': [{'description': 'clear sky',\n",
      "              'icon': '01d',\n",
      "              'id': 800,\n",
      "              'main': 'Clear'}],\n",
      " 'wind': {'deg': 210, 'speed': 3.1}}\n"
     ]
    }
   ],
   "source": [
    "response = requests.get(query_url+\"London\")\n",
    "pprint(response.json())"
   ]
  },
  {
   "cell_type": "markdown",
   "metadata": {},
   "source": [
    "### Convert Raw Data to DataFrame\n",
    "* Export the city data into a .csv.\n",
    "* Display the DataFrame"
   ]
  },
  {
   "cell_type": "code",
   "execution_count": 124,
   "metadata": {},
   "outputs": [
    {
     "name": "stdout",
     "output_type": "stream",
     "text": [
      "City not found\n",
      "City not found\n",
      "3 Emba\n",
      "City not found\n",
      "5 Port Blair\n",
      "6 Atuona\n",
      "7 Bluff\n",
      "8 Kathu\n",
      "9 Karasjok\n",
      "10 Pisco\n",
      "11 Tapes\n",
      "12 Butaritari\n",
      "13 Albany\n",
      "14 São Filipe\n",
      "15 Touros\n",
      "16 Portland\n",
      "17 Naze\n",
      "18 Ushuaia\n",
      "19 Punta Arenas\n",
      "20 Kazachinskoye\n",
      "City not found\n",
      "22 Rikitea\n",
      "23 Coquimbo\n",
      "24 Comodoro Rivadavia\n",
      "25 Husavik\n",
      "26 Hithadhoo\n",
      "27 Ponta do Sol\n",
      "28 Mar del Plata\n",
      "29 Hamilton\n",
      "30 Westport\n",
      "31 Upernavik\n",
      "32 Ikorodu\n",
      "33 Juli\n",
      "34 Nagyvenyim\n",
      "35 George Town\n",
      "City not found\n",
      "37 Chokurdakh\n",
      "38 Esperance\n",
      "39 Lorengau\n",
      "40 Qaanaaq\n",
      "41 Torbay\n",
      "42 Longyearbyen\n",
      "43 Airai\n",
      "44 Klaksvík\n",
      "45 Chivay\n",
      "46 Kudahuvadhoo\n",
      "47 Jamestown\n",
      "48 Moranbah\n",
      "49 Fairbanks\n",
      "50 Isverna\n",
      "51 Makakilo City\n",
      "52 Mahébourg\n",
      "53 Barcelos\n",
      "54 Castro\n",
      "55 Mount Gambier\n",
      "56 Arraial do Cabo\n",
      "City not found\n",
      "58 New Norfolk\n",
      "City not found\n",
      "60 Zhengjiatun\n",
      "61 Barrow\n",
      "62 Los Llanos de Aridane\n",
      "63 Kavieng\n",
      "64 Bredasdorp\n",
      "65 Banepā\n",
      "66 Tasiilaq\n",
      "67 Wattegama\n",
      "68 Taltal\n",
      "69 Saýat\n",
      "70 Vestmanna\n",
      "71 Narsaq\n",
      "72 Muroto-misakicho\n",
      "73 Provideniya\n",
      "74 Bilibino\n",
      "75 Carnarvon\n",
      "76 Mataura\n",
      "77 Lagoa\n",
      "City not found\n",
      "79 Avera\n",
      "80 Pevek\n",
      "81 Vaini\n",
      "82 Vernon\n",
      "83 Serenje\n",
      "84 Sedona\n",
      "85 San Juan\n",
      "86 Nanortalik\n",
      "87 Raudeberg\n",
      "City not found\n",
      "89 Chui\n",
      "90 Coyhaique\n",
      "91 Toamasina\n",
      "92 San Francisco\n",
      "93 Grindavik\n",
      "94 Praia\n",
      "95 Arman'\n",
      "City not found\n",
      "97 Pueblo\n",
      "98 Rome\n",
      "99 Avarua\n",
      "100 Cape Town\n",
      "101 Mossamedes\n",
      "102 Mbamba\n",
      "103 Muros\n",
      "104 Rudnogorsk\n",
      "105 Cao Bang\n",
      "106 Guerrero Negro\n",
      "107 Cabo San Lucas\n",
      "108 Manaus\n",
      "109 Karhal\n",
      "110 Tura\n",
      "111 Sitka\n",
      "City not found\n",
      "113 Thompson\n",
      "114 Khorixas\n",
      "115 Itarema\n",
      "116 Russell\n",
      "117 Krivodol\n",
      "118 Ahipara\n",
      "119 Vao\n",
      "120 Salina Cruz\n",
      "121 Quesnel\n",
      "122 Springfield\n",
      "123 Lincoln\n",
      "124 Kavaratti\n",
      "125 Hofn\n",
      "126 Ponte San Nicolò\n",
      "127 Port-Cartier\n",
      "128 Channel-Port aux Basques\n",
      "129 Cherlak\n",
      "130 Iracoubo\n",
      "131 Graham\n",
      "132 Tanout\n",
      "133 Berdigestyakh\n",
      "134 Ancud\n",
      "135 Amapá\n",
      "136 Hong Kong\n",
      "137 Iqaluit\n",
      "138 Ferme-Neuve\n",
      "City not found\n",
      "140 Severo-Kuril'sk\n",
      "141 Lompoc\n",
      "142 Hilo\n",
      "143 Tuatapere\n",
      "144 Laas\n",
      "145 Saint Anthony\n",
      "146 Filingué\n",
      "City not found\n",
      "City not found\n",
      "149 Kon Tum\n",
      "150 Port Hardy\n",
      "151 Abonnema\n",
      "152 Clyde River\n",
      "City not found\n",
      "154 Merauke\n",
      "155 Petropavlovsk-Kamchatskiy\n",
      "156 Saskylakh\n",
      "157 Hermanus\n",
      "City not found\n",
      "159 Sakakah\n",
      "City not found\n",
      "161 San Patricio\n",
      "162 Bosaso\n",
      "163 Llanes\n",
      "164 Ostrovnoy\n",
      "165 Dhidhdhoo\n",
      "City not found\n",
      "167 Kalmunai\n",
      "168 Saint-François\n",
      "169 Busselton\n",
      "170 Tirano\n",
      "171 Aswān\n",
      "172 Buchmany\n",
      "173 Yellowknife\n",
      "174 Velsk\n",
      "175 Anloga\n",
      "176 Rach Gia\n",
      "177 Dikson\n",
      "178 Renukoot\n",
      "179 Merseburg\n",
      "180 Sisimiut\n",
      "181 Abu Dhabi\n",
      "182 Aklavik\n",
      "183 Dingcheng\n",
      "184 Kromy\n",
      "185 Gimli\n",
      "186 Norfolk\n",
      "187 Hualmay\n",
      "City not found\n",
      "189 Hobart\n",
      "190 Issoire\n",
      "191 Lavrentiya\n",
      "192 Kangshan\n",
      "193 Maturin\n",
      "194 Barcarena\n",
      "195 Srīvardhan\n",
      "196 Broome\n",
      "197 Oranjemund\n",
      "198 Mīzan Teferī\n",
      "199 Nikolskoye\n",
      "200 Kapaa\n",
      "201 Dawlatabad\n",
      "202 Saldanha\n",
      "203 Cabadiangan\n",
      "204 Bambous Virieux\n",
      "205 Port Lincoln\n",
      "206 Bubaque\n",
      "207 Port Alfred\n",
      "208 Saint-Joseph\n",
      "209 Carballo\n",
      "210 Geraldton\n",
      "211 Tocopilla\n",
      "212 Lom Sak\n",
      "213 Saint Paul Harbor\n",
      "214 Dingle\n",
      "215 Stornoway\n",
      "216 Tazovsky\n",
      "217 Abu Samrah\n",
      "218 Motygino\n",
      "City not found\n",
      "220 Kamaishi\n",
      "221 Galesong\n",
      "222 Te Anau\n",
      "City not found\n",
      "224 Klyuchi\n",
      "225 Huitziltepec\n",
      "226 San Luis\n",
      "227 Asău\n",
      "228 Ngunguru\n",
      "229 Vila\n",
      "230 Byron Bay\n",
      "231 Laurel\n",
      "232 Saint-Philippe\n",
      "233 Beringovskiy\n",
      "234 Kondinskoye\n",
      "235 Cherskiy\n",
      "236 Moroni\n",
      "237 Arlit\n",
      "238 Sioux Lookout\n",
      "239 Bengkulu\n",
      "240 Bowen\n",
      "241 Tarakan\n",
      "242 Itaituba\n",
      "243 Sayansk\n",
      "244 Dunedin\n",
      "245 Kasempa\n",
      "246 Alofi\n",
      "247 Marquette\n",
      "248 Puerto Ayora\n",
      "City not found\n",
      "250 West Bay\n",
      "251 Søndersø\n",
      "City not found\n",
      "City not found\n",
      "254 Nuoro\n",
      "255 Oodweyne\n",
      "256 Codrington\n",
      "257 São Geraldo do Araguaia\n",
      "258 Tuktoyaktuk\n",
      "259 Toora-Khem\n",
      "260 Ribeira Grande\n",
      "261 Sinnamary\n",
      "262 Harkány\n",
      "263 Kahului\n",
      "264 Qaqortoq\n",
      "265 Japura\n",
      "City not found\n",
      "267 Jiuquan\n",
      "268 Juneau\n",
      "269 Kargasok\n",
      "270 Leer\n",
      "271 Porto Santo\n",
      "272 Pangai\n",
      "273 Fairlie\n",
      "274 Biak\n",
      "275 Vestmannaeyjar\n",
      "276 East London\n",
      "277 Mitú\n",
      "278 Tiksi\n",
      "279 Garoowe\n",
      "City not found\n",
      "281 Padang\n",
      "282 Krasne\n",
      "283 Madang\n",
      "284 Hāgere Hiywet\n",
      "285 Acaraú\n",
      "286 Kimbe\n",
      "287 Ugoofaaru\n",
      "288 Al Bardīyah\n",
      "289 Hervey Bay\n",
      "290 Cam Ranh\n",
      "291 Roald\n",
      "292 Menongue\n",
      "293 Ilulissat\n",
      "294 Putina\n",
      "295 Matozinhos\n",
      "296 Pangkalanbuun\n",
      "City not found\n",
      "City not found\n",
      "299 Muhafazat Lahij\n",
      "300 Lubango\n",
      "301 Nemuro\n",
      "302 Betioky\n",
      "303 Port Elizabeth\n",
      "304 Khatanga\n",
      "305 Fortuna\n",
      "306 Shar\n",
      "307 Valparaíso\n",
      "308 Blackfoot\n",
      "309 Yerbogachën\n",
      "310 Mitchell\n",
      "311 Magdug\n",
      "312 São Félix do Xingu\n",
      "313 Zhurivka\n",
      "314 Pekalongan\n",
      "315 Vrangel'\n",
      "316 Luanda\n",
      "City not found\n",
      "318 Chapais\n",
      "City not found\n",
      "320 Ola\n",
      "321 Yar-Sale\n",
      "322 Kolpashevo\n",
      "323 Hambantota\n",
      "324 Verkh-Usugli\n",
      "325 Katsuura\n",
      "326 Patti\n",
      "327 Saint George\n",
      "328 Vila Franca do Campo\n",
      "329 Adeje\n",
      "330 Talnakh\n",
      "331 Whitehorse\n",
      "332 Bathsheba\n",
      "333 Joshīmath\n",
      "334 San Quintín\n",
      "335 Fayaoué\n",
      "336 Paita\n",
      "337 Ariquemes\n",
      "338 Itupiranga\n",
      "339 Storforshei\n",
      "340 Flin Flon\n",
      "City not found\n",
      "342 Palmer\n",
      "City not found\n",
      "344 Tocantins\n",
      "345 Cidreira\n",
      "346 Kushima\n",
      "347 Mangla\n",
      "348 Tabou\n",
      "349 Oddur\n",
      "350 Lebu\n",
      "351 Dakoro\n",
      "352 Moree\n",
      "353 Forsytheganj\n",
      "354 Grand Gaube\n",
      "355 Banda Aceh\n",
      "356 Necochea\n",
      "357 Santa Maria\n",
      "358 Norman Wells\n",
      "359 Leningradskiy\n",
      "360 Itacoatiara\n",
      "361 Bethel\n",
      "362 Faanui\n",
      "363 Sistranda\n",
      "364 San Ignacio\n",
      "365 Sarangani\n",
      "366 Loandjili\n",
      "367 Cayenne\n",
      "368 Provincia di Grosseto\n",
      "369 Goderich\n",
      "City not found\n",
      "371 Mason City\n",
      "372 Kushmurun\n",
      "373 Atar\n",
      "374 Pine Bluff\n",
      "375 Gravdal\n",
      "376 Lānja\n",
      "City not found\n",
      "378 Kudat\n",
      "379 Santa Rosa\n",
      "380 Langsa\n",
      "381 Eyl\n",
      "382 Hirara\n",
      "383 Altona\n",
      "384 Belmonte\n",
      "385 Corrente\n",
      "386 Warren\n",
      "387 Poção de Pedras\n",
      "388 Saint-Chamond\n",
      "389 Egvekinot\n",
      "390 Lagos\n",
      "391 Mahabalipuram\n",
      "392 Constitución\n",
      "393 Departamento de Maldonado\n",
      "City not found\n",
      "395 Banjar\n",
      "396 Saint-Augustin\n",
      "397 Kailua\n",
      "398 North Bend\n",
      "399 Otradnoye\n",
      "400 Tandil\n",
      "City not found\n",
      "402 Isangel\n",
      "403 Idukki\n",
      "404 Batagay-Alyta\n",
      "405 Dongsheng\n",
      "406 Salalah\n",
      "407 Yangi Marg`ilon\n",
      "408 Lata\n",
      "409 Kununurra\n",
      "410 Viedma\n",
      "411 Goba\n",
      "412 Prince Rupert\n",
      "413 Moba\n",
      "414 Okha\n",
      "415 Shache\n",
      "416 Petrolina\n",
      "417 Pareora\n",
      "418 Mount Isa\n",
      "419 Camaná\n",
      "420 Alekseyevka\n",
      "421 Berbera\n",
      "422 Hope\n",
      "423 Littleton\n",
      "424 The Valley\n",
      "425 Tuy Hoa\n",
      "426 Honiara\n",
      "427 Ust-Maya\n",
      "428 Presidencia Roque Sáenz Peña\n",
      "City not found\n",
      "430 Tshikapa\n",
      "431 Barranca\n",
      "432 Hutchinson\n",
      "City not found\n",
      "434 Montepuez\n",
      "435 Souillac\n",
      "436 Buraidah\n",
      "City not found\n",
      "438 Turukhansk\n",
      "439 Pāveh\n",
      "440 Puerto Escondido\n",
      "441 Vila Velha\n",
      "442 Narasannapeta\n",
      "City not found\n",
      "444 Miquelon\n",
      "445 Ulladulla\n",
      "446 Doka\n",
      "447 Broken Hill\n",
      "448 Assaré\n",
      "449 Bandar\n",
      "450 Kenai\n",
      "451 Srednekolymsk\n",
      "452 Kulmbach\n",
      "453 Kruisfontein\n",
      "454 Mataram\n",
      "455 Bonavista\n",
      "456 Kirakira\n",
      "457 Darnah\n",
      "458 Katangli\n",
      "459 Olafsvik\n",
      "460 Almaty\n",
      "461 Ostashkov\n",
      "462 Sola\n",
      "463 Umluj\n",
      "City not found\n",
      "465 Ambilobe\n",
      "466 Lichinga\n",
      "467 Sangīn\n",
      "468 Bondo\n",
      "469 Krasnosel'kup\n",
      "City not found\n",
      "471 Rawson\n",
      "472 Ossora\n",
      "473 Riyadh\n",
      "474 Reconquista\n",
      "475 Svarstad\n",
      "476 Tornio\n",
      "477 Wamba\n",
      "478 Xichang\n",
      "479 La Libertad\n",
      "480 Paracuru\n",
      "481 Gouré\n",
      "482 Mizdah\n",
      "483 Goma\n",
      "484 Tigil'\n",
      "485 Henties Bay\n",
      "486 Oranjestad\n",
      "487 Atambua\n",
      "488 El Fuerte\n",
      "489 Madingou\n",
      "490 Nago\n",
      "491 Provincia di Imperia\n",
      "492 Nome\n",
      "493 Aripuanã\n",
      "494 Bac Lieu\n",
      "495 Stokmarknes\n",
      "City not found\n",
      "497 Paralímni\n",
      "498 Maragogi\n",
      "499 Sechura\n",
      "500 Lüderitz\n",
      "501 Weligama\n",
      "502 Hayden\n",
      "503 Ekhabi\n",
      "504 Beloha\n",
      "505 Grevesmühlen\n",
      "506 Marzuq\n",
      "507 Solwezi\n",
      "508 Muisne\n",
      "509 Yaan\n",
      "510 Satipo\n",
      "511 Ihosy\n",
      "512 Kaitangata\n",
      "513 Kiunga\n",
      "514 Sept-Îles\n",
      "515 Pangnirtung\n",
      "516 Şile\n",
      "517 La Macarena\n",
      "518 Lieksa\n",
      "519 Kumul\n",
      "520 Laguna\n",
      "City not found\n",
      "522 Karratha\n",
      "523 Mariehamn\n",
      "524 Plettenberg Bay\n",
      "525 Muyezerskiy\n",
      "526 Cham\n",
      "City not found\n",
      "528 Torres\n",
      "529 Caravelas\n",
      "530 Quatre Cocos\n",
      "531 Pala\n",
      "City not found\n",
      "533 Finnsnes\n",
      "534 Avilés\n",
      "535 Praxédis Guerrero\n",
      "536 Namatanai\n",
      "537 Enid\n",
      "538 Maceió\n",
      "539 Margate\n",
      "540 Labuhan\n",
      "541 Port Hedland\n",
      "542 Kjøpsvik\n",
      "543 Vigrestad\n",
      "544 Ketchikan\n",
      "545 Gushikawa\n",
      "546 Yulara\n",
      "547 Talara\n",
      "548 Mehamn\n",
      "549 Gautier\n",
      "550 Sierra Vista\n",
      "City not found\n",
      "552 Khanpur\n",
      "553 Tsimmerbude\n",
      "554 Haines Junction\n",
      "555 Willmar\n",
      "556 Sorong\n",
      "557 Tommot\n",
      "City not found\n",
      "559 Shellbrook\n",
      "560 Nísia Floresta\n",
      "561 Ushtobe\n",
      "562 Nangong\n",
      "563 Cairns\n",
      "564 Ransang\n",
      "565 Cockburn Town\n",
      "566 Saint-Pierre\n",
      "567 Havelock\n",
      "568 Pemberton\n",
      "569 Chabahar\n",
      "City not found\n",
      "571 Cabra\n",
      "572 Tortosa\n",
      "573 Daru\n",
      "574 Usinsk\n",
      "575 Aba\n",
      "576 Najrān\n",
      "577 Karlskrona\n",
      "578 Pervomayskiy\n",
      "579 Imatra\n",
      "580 Mathathane\n",
      "581 Nālūt\n",
      "582 Leona Vicario\n",
      "583 Alta Floresta\n",
      "584 Lander\n",
      "585 Bilky\n",
      "City not found\n",
      "587 Taoudenni\n",
      "588 Pauini\n",
      "589 Reserva\n",
      "590 Province of Mantua\n",
      "591 Kokoda\n",
      "592 Cherkasskoye\n"
     ]
    }
   ],
   "source": [
    "cities_data = []\n",
    "counter = 0\n",
    "for city in cities:\n",
    "    counter = counter + 1\n",
    "    response = requests.get(query_url+city).json()\n",
    "    try:\n",
    "        \n",
    "        city = response[\"name\"]\n",
    "        temp_max = response[\"main\"][\"temp_max\"]\n",
    "        humidity = response[\"main\"][\"humidity\"]\n",
    "        wind_speed = response[\"wind\"][\"speed\"]\n",
    "        cloudiness = response[\"clouds\"][\"all\"]\n",
    "        country = response[\"sys\"][\"country\"]\n",
    "        date = response[\"dt\"]\n",
    "        longitude = response[\"coord\"][\"lon\"]\n",
    "        latitude = response[\"coord\"][\"lat\"]\n",
    "        cities_data.append([city, temp_max, humidity, wind_speed,cloudiness,country,date, longitude,latitude])\n",
    "        print(f'{counter} {city}')\n",
    "        time.sleep(1)\n",
    "    except:\n",
    "        print(\"City not found\")\n",
    "    \n",
    "    \n",
    "    "
   ]
  },
  {
   "cell_type": "code",
   "execution_count": 147,
   "metadata": {},
   "outputs": [
    {
     "data": {
      "text/html": [
       "<div>\n",
       "<style scoped>\n",
       "    .dataframe tbody tr th:only-of-type {\n",
       "        vertical-align: middle;\n",
       "    }\n",
       "\n",
       "    .dataframe tbody tr th {\n",
       "        vertical-align: top;\n",
       "    }\n",
       "\n",
       "    .dataframe thead th {\n",
       "        text-align: right;\n",
       "    }\n",
       "</style>\n",
       "<table border=\"1\" class=\"dataframe\">\n",
       "  <thead>\n",
       "    <tr style=\"text-align: right;\">\n",
       "      <th></th>\n",
       "      <th>city</th>\n",
       "      <th>temp_max</th>\n",
       "      <th>humidity</th>\n",
       "      <th>wind_speed</th>\n",
       "      <th>cloudiness</th>\n",
       "      <th>country</th>\n",
       "      <th>date</th>\n",
       "      <th>longitude</th>\n",
       "      <th>latitude</th>\n",
       "    </tr>\n",
       "  </thead>\n",
       "  <tbody>\n",
       "    <tr>\n",
       "      <th>0</th>\n",
       "      <td>Emba</td>\n",
       "      <td>-8.70</td>\n",
       "      <td>82</td>\n",
       "      <td>2.27</td>\n",
       "      <td>0</td>\n",
       "      <td>KZ</td>\n",
       "      <td>1608043532</td>\n",
       "      <td>58.14</td>\n",
       "      <td>48.83</td>\n",
       "    </tr>\n",
       "    <tr>\n",
       "      <th>1</th>\n",
       "      <td>Port Blair</td>\n",
       "      <td>27.20</td>\n",
       "      <td>84</td>\n",
       "      <td>4.60</td>\n",
       "      <td>100</td>\n",
       "      <td>IN</td>\n",
       "      <td>1608043389</td>\n",
       "      <td>92.75</td>\n",
       "      <td>11.67</td>\n",
       "    </tr>\n",
       "    <tr>\n",
       "      <th>2</th>\n",
       "      <td>Atuona</td>\n",
       "      <td>25.81</td>\n",
       "      <td>77</td>\n",
       "      <td>9.11</td>\n",
       "      <td>7</td>\n",
       "      <td>PF</td>\n",
       "      <td>1608043534</td>\n",
       "      <td>-139.03</td>\n",
       "      <td>-9.80</td>\n",
       "    </tr>\n",
       "    <tr>\n",
       "      <th>3</th>\n",
       "      <td>Bluff</td>\n",
       "      <td>13.89</td>\n",
       "      <td>85</td>\n",
       "      <td>1.79</td>\n",
       "      <td>68</td>\n",
       "      <td>NZ</td>\n",
       "      <td>1608043535</td>\n",
       "      <td>168.33</td>\n",
       "      <td>-46.60</td>\n",
       "    </tr>\n",
       "    <tr>\n",
       "      <th>4</th>\n",
       "      <td>Kathu</td>\n",
       "      <td>30.00</td>\n",
       "      <td>94</td>\n",
       "      <td>0.50</td>\n",
       "      <td>20</td>\n",
       "      <td>TH</td>\n",
       "      <td>1608043536</td>\n",
       "      <td>98.33</td>\n",
       "      <td>7.92</td>\n",
       "    </tr>\n",
       "  </tbody>\n",
       "</table>\n",
       "</div>"
      ],
      "text/plain": [
       "         city  temp_max  humidity  wind_speed  cloudiness country        date  \\\n",
       "0        Emba     -8.70        82        2.27           0      KZ  1608043532   \n",
       "1  Port Blair     27.20        84        4.60         100      IN  1608043389   \n",
       "2      Atuona     25.81        77        9.11           7      PF  1608043534   \n",
       "3       Bluff     13.89        85        1.79          68      NZ  1608043535   \n",
       "4       Kathu     30.00        94        0.50          20      TH  1608043536   \n",
       "\n",
       "   longitude  latitude  \n",
       "0      58.14     48.83  \n",
       "1      92.75     11.67  \n",
       "2    -139.03     -9.80  \n",
       "3     168.33    -46.60  \n",
       "4      98.33      7.92  "
      ]
     },
     "execution_count": 147,
     "metadata": {},
     "output_type": "execute_result"
    }
   ],
   "source": [
    "\n",
    "cities_df = pd.DataFrame(cities_data, columns = [\"city\",\"temp_max\", \"humidity\", \"wind_speed\",\"cloudiness\",\"country\",\n",
    "                                                 \"date\", \"longitude\",\"latitude\"])\n",
    "cities_df.head()\n"
   ]
  },
  {
   "cell_type": "code",
   "execution_count": null,
   "metadata": {},
   "outputs": [],
   "source": []
  },
  {
   "cell_type": "markdown",
   "metadata": {},
   "source": [
    "## Inspect the data and remove the cities where the humidity > 100%.\n",
    "----\n",
    "Skip this step if there are no cities that have humidity > 100%. "
   ]
  },
  {
   "cell_type": "code",
   "execution_count": 175,
   "metadata": {},
   "outputs": [
    {
     "data": {
      "text/plain": [
       "Int64Index([], dtype='int64')"
      ]
     },
     "execution_count": 175,
     "metadata": {},
     "output_type": "execute_result"
    }
   ],
   "source": [
    "\n",
    "humidity_data = cities_df[cities_df[\"humidity\"]>100].index\n",
    "humidity_data"
   ]
  },
  {
   "cell_type": "code",
   "execution_count": 171,
   "metadata": {},
   "outputs": [],
   "source": [
    "#  Get the indices of cities that have humidity over 100%.\n",
    "#none"
   ]
  },
  {
   "cell_type": "code",
   "execution_count": 176,
   "metadata": {},
   "outputs": [
    {
     "data": {
      "text/html": [
       "<div>\n",
       "<style scoped>\n",
       "    .dataframe tbody tr th:only-of-type {\n",
       "        vertical-align: middle;\n",
       "    }\n",
       "\n",
       "    .dataframe tbody tr th {\n",
       "        vertical-align: top;\n",
       "    }\n",
       "\n",
       "    .dataframe thead th {\n",
       "        text-align: right;\n",
       "    }\n",
       "</style>\n",
       "<table border=\"1\" class=\"dataframe\">\n",
       "  <thead>\n",
       "    <tr style=\"text-align: right;\">\n",
       "      <th></th>\n",
       "      <th>city</th>\n",
       "      <th>temp_max</th>\n",
       "      <th>humidity</th>\n",
       "      <th>wind_speed</th>\n",
       "      <th>cloudiness</th>\n",
       "      <th>country</th>\n",
       "      <th>date</th>\n",
       "      <th>longitude</th>\n",
       "      <th>latitude</th>\n",
       "    </tr>\n",
       "  </thead>\n",
       "  <tbody>\n",
       "    <tr>\n",
       "      <th>0</th>\n",
       "      <td>Emba</td>\n",
       "      <td>-8.70</td>\n",
       "      <td>82</td>\n",
       "      <td>2.27</td>\n",
       "      <td>0</td>\n",
       "      <td>KZ</td>\n",
       "      <td>1608043532</td>\n",
       "      <td>58.14</td>\n",
       "      <td>48.83</td>\n",
       "    </tr>\n",
       "    <tr>\n",
       "      <th>1</th>\n",
       "      <td>Port Blair</td>\n",
       "      <td>27.20</td>\n",
       "      <td>84</td>\n",
       "      <td>4.60</td>\n",
       "      <td>100</td>\n",
       "      <td>IN</td>\n",
       "      <td>1608043389</td>\n",
       "      <td>92.75</td>\n",
       "      <td>11.67</td>\n",
       "    </tr>\n",
       "    <tr>\n",
       "      <th>2</th>\n",
       "      <td>Atuona</td>\n",
       "      <td>25.81</td>\n",
       "      <td>77</td>\n",
       "      <td>9.11</td>\n",
       "      <td>7</td>\n",
       "      <td>PF</td>\n",
       "      <td>1608043534</td>\n",
       "      <td>-139.03</td>\n",
       "      <td>-9.80</td>\n",
       "    </tr>\n",
       "    <tr>\n",
       "      <th>3</th>\n",
       "      <td>Bluff</td>\n",
       "      <td>13.89</td>\n",
       "      <td>85</td>\n",
       "      <td>1.79</td>\n",
       "      <td>68</td>\n",
       "      <td>NZ</td>\n",
       "      <td>1608043535</td>\n",
       "      <td>168.33</td>\n",
       "      <td>-46.60</td>\n",
       "    </tr>\n",
       "    <tr>\n",
       "      <th>4</th>\n",
       "      <td>Kathu</td>\n",
       "      <td>30.00</td>\n",
       "      <td>94</td>\n",
       "      <td>0.50</td>\n",
       "      <td>20</td>\n",
       "      <td>TH</td>\n",
       "      <td>1608043536</td>\n",
       "      <td>98.33</td>\n",
       "      <td>7.92</td>\n",
       "    </tr>\n",
       "    <tr>\n",
       "      <th>...</th>\n",
       "      <td>...</td>\n",
       "      <td>...</td>\n",
       "      <td>...</td>\n",
       "      <td>...</td>\n",
       "      <td>...</td>\n",
       "      <td>...</td>\n",
       "      <td>...</td>\n",
       "      <td>...</td>\n",
       "      <td>...</td>\n",
       "    </tr>\n",
       "    <tr>\n",
       "      <th>537</th>\n",
       "      <td>Pauini</td>\n",
       "      <td>29.71</td>\n",
       "      <td>60</td>\n",
       "      <td>1.17</td>\n",
       "      <td>100</td>\n",
       "      <td>BR</td>\n",
       "      <td>1608044063</td>\n",
       "      <td>-66.98</td>\n",
       "      <td>-7.71</td>\n",
       "    </tr>\n",
       "    <tr>\n",
       "      <th>538</th>\n",
       "      <td>Reserva</td>\n",
       "      <td>23.18</td>\n",
       "      <td>76</td>\n",
       "      <td>2.53</td>\n",
       "      <td>84</td>\n",
       "      <td>BR</td>\n",
       "      <td>1608044124</td>\n",
       "      <td>-50.85</td>\n",
       "      <td>-24.65</td>\n",
       "    </tr>\n",
       "    <tr>\n",
       "      <th>539</th>\n",
       "      <td>Province of Mantua</td>\n",
       "      <td>8.33</td>\n",
       "      <td>93</td>\n",
       "      <td>1.34</td>\n",
       "      <td>100</td>\n",
       "      <td>IT</td>\n",
       "      <td>1608044125</td>\n",
       "      <td>10.78</td>\n",
       "      <td>45.17</td>\n",
       "    </tr>\n",
       "    <tr>\n",
       "      <th>540</th>\n",
       "      <td>Kokoda</td>\n",
       "      <td>24.34</td>\n",
       "      <td>73</td>\n",
       "      <td>0.29</td>\n",
       "      <td>97</td>\n",
       "      <td>PG</td>\n",
       "      <td>1608044126</td>\n",
       "      <td>147.74</td>\n",
       "      <td>-8.88</td>\n",
       "    </tr>\n",
       "    <tr>\n",
       "      <th>541</th>\n",
       "      <td>Cherkasskoye</td>\n",
       "      <td>-8.82</td>\n",
       "      <td>96</td>\n",
       "      <td>2.61</td>\n",
       "      <td>100</td>\n",
       "      <td>RU</td>\n",
       "      <td>1608044128</td>\n",
       "      <td>47.22</td>\n",
       "      <td>52.43</td>\n",
       "    </tr>\n",
       "  </tbody>\n",
       "</table>\n",
       "<p>542 rows × 9 columns</p>\n",
       "</div>"
      ],
      "text/plain": [
       "                   city  temp_max  humidity  wind_speed  cloudiness country  \\\n",
       "0                  Emba     -8.70        82        2.27           0      KZ   \n",
       "1            Port Blair     27.20        84        4.60         100      IN   \n",
       "2                Atuona     25.81        77        9.11           7      PF   \n",
       "3                 Bluff     13.89        85        1.79          68      NZ   \n",
       "4                 Kathu     30.00        94        0.50          20      TH   \n",
       "..                  ...       ...       ...         ...         ...     ...   \n",
       "537              Pauini     29.71        60        1.17         100      BR   \n",
       "538             Reserva     23.18        76        2.53          84      BR   \n",
       "539  Province of Mantua      8.33        93        1.34         100      IT   \n",
       "540              Kokoda     24.34        73        0.29          97      PG   \n",
       "541        Cherkasskoye     -8.82        96        2.61         100      RU   \n",
       "\n",
       "           date  longitude  latitude  \n",
       "0    1608043532      58.14     48.83  \n",
       "1    1608043389      92.75     11.67  \n",
       "2    1608043534    -139.03     -9.80  \n",
       "3    1608043535     168.33    -46.60  \n",
       "4    1608043536      98.33      7.92  \n",
       "..          ...        ...       ...  \n",
       "537  1608044063     -66.98     -7.71  \n",
       "538  1608044124     -50.85    -24.65  \n",
       "539  1608044125      10.78     45.17  \n",
       "540  1608044126     147.74     -8.88  \n",
       "541  1608044128      47.22     52.43  \n",
       "\n",
       "[542 rows x 9 columns]"
      ]
     },
     "execution_count": 176,
     "metadata": {},
     "output_type": "execute_result"
    }
   ],
   "source": [
    "# Make a new DataFrame equal to the city data to drop all humidity outliers by index.\n",
    "# Passing \"inplace=False\" will make a copy of the city_data DataFrame, which we call \"clean_city_data\".\n",
    "clean_data = cities_df.drop(humidity_data,inplace = False)\n",
    "clean_data"
   ]
  },
  {
   "cell_type": "code",
   "execution_count": null,
   "metadata": {},
   "outputs": [],
   "source": [
    "\n"
   ]
  },
  {
   "cell_type": "markdown",
   "metadata": {},
   "source": [
    "## Plotting the Data\n",
    "* Use proper labeling of the plots using plot titles (including date of analysis) and axes labels.\n",
    "* Save the plotted figures as .pngs."
   ]
  },
  {
   "cell_type": "markdown",
   "metadata": {},
   "source": [
    "## Latitude vs. Temperature Plot"
   ]
  },
  {
   "cell_type": "code",
   "execution_count": 177,
   "metadata": {
    "scrolled": true
   },
   "outputs": [
    {
     "name": "stdout",
     "output_type": "stream",
     "text": [
      "The temperature is directly related to the equator; the farther north or south away a city is from the equator, the average temperature is colder.\n"
     ]
    },
    {
     "data": {
      "image/png": "[encoded data removed]",
      "text/plain": [
       "<Figure size 432x288 with 1 Axes>"
      ]
     },
     "metadata": {
      "needs_background": "light"
     },
     "output_type": "display_data"
    }
   ],
   "source": [
    "tempVlat = clean_data.plot.scatter(x = \"temp_max\",\n",
    "                                    y = \"latitude\",\n",
    "                                    c = \"DarkBlue\")\n",
    "print(\"The temperature is directly related to the equator; the farther north or south away a city is from the equator, the average temperature is colder.\")"
   ]
  },
  {
   "cell_type": "markdown",
   "metadata": {},
   "source": [
    "## Latitude vs. Humidity Plot"
   ]
  },
  {
   "cell_type": "code",
   "execution_count": 178,
   "metadata": {},
   "outputs": [
    {
     "data": {
      "image/png": "[encoded data removed]",
      "text/plain": [
       "<Figure size 432x288 with 1 Axes>"
      ]
     },
     "metadata": {
      "needs_background": "light"
     },
     "output_type": "display_data"
    }
   ],
   "source": [
    "humVlat = clean_data.plot.scatter(x = \"humidity\",\n",
    "                                   y = \"latitude\",\n",
    "                                   c = \"orange\")\n"
   ]
  },
  {
   "cell_type": "markdown",
   "metadata": {},
   "source": [
    "## Latitude vs. Cloudiness Plot"
   ]
  },
  {
   "cell_type": "code",
   "execution_count": 179,
   "metadata": {},
   "outputs": [
    {
     "name": "stdout",
     "output_type": "stream",
     "text": [
      "OBSERVATION: Humidity tends to average at approximately 0, 20, 40, 70 and 100 percentages.\n"
     ]
    },
    {
     "data": {
      "image/png": "[encoded data removed]",
      "text/plain": [
       "<Figure size 432x288 with 1 Axes>"
      ]
     },
     "metadata": {
      "needs_background": "light"
     },
     "output_type": "display_data"
    }
   ],
   "source": [
    "\n",
    "CloudyVlat = clean_data.plot.scatter(x = \"latitude\",\n",
    "                                    y = \"cloudiness\",\n",
    "                                    c = \"gray\")\n",
    "print(\"OBSERVATION: Humidity tends to average at approximately 0, 20, 40, 70 and 100 percentages.\")"
   ]
  },
  {
   "cell_type": "markdown",
   "metadata": {},
   "source": [
    "## Latitude vs. Wind Speed Plot"
   ]
  },
  {
   "cell_type": "code",
   "execution_count": 180,
   "metadata": {},
   "outputs": [
    {
     "data": {
      "image/png": "[encoded data removed]",
      "text/plain": [
       "<Figure size 432x288 with 1 Axes>"
      ]
     },
     "metadata": {
      "needs_background": "light"
     },
     "output_type": "display_data"
    }
   ],
   "source": [
    "windVlat = clean_data.plot.scatter(x = \"wind_speed\",\n",
    "                                    y = \"latitude\",\n",
    "                                    c = \"gray\")"
   ]
  },
  {
   "cell_type": "markdown",
   "metadata": {},
   "source": [
    "## Linear Regression"
   ]
  },
  {
   "cell_type": "code",
   "execution_count": 181,
   "metadata": {},
   "outputs": [
    {
     "data": {
      "text/html": [
       "<div>\n",
       "<style scoped>\n",
       "    .dataframe tbody tr th:only-of-type {\n",
       "        vertical-align: middle;\n",
       "    }\n",
       "\n",
       "    .dataframe tbody tr th {\n",
       "        vertical-align: top;\n",
       "    }\n",
       "\n",
       "    .dataframe thead th {\n",
       "        text-align: right;\n",
       "    }\n",
       "</style>\n",
       "<table border=\"1\" class=\"dataframe\">\n",
       "  <thead>\n",
       "    <tr style=\"text-align: right;\">\n",
       "      <th></th>\n",
       "      <th>city</th>\n",
       "      <th>temp_max</th>\n",
       "      <th>humidity</th>\n",
       "      <th>wind_speed</th>\n",
       "      <th>cloudiness</th>\n",
       "      <th>country</th>\n",
       "      <th>date</th>\n",
       "      <th>longitude</th>\n",
       "      <th>latitude</th>\n",
       "    </tr>\n",
       "  </thead>\n",
       "  <tbody>\n",
       "    <tr>\n",
       "      <th>0</th>\n",
       "      <td>Emba</td>\n",
       "      <td>-8.70</td>\n",
       "      <td>82</td>\n",
       "      <td>2.27</td>\n",
       "      <td>0</td>\n",
       "      <td>KZ</td>\n",
       "      <td>1608043532</td>\n",
       "      <td>58.14</td>\n",
       "      <td>48.83</td>\n",
       "    </tr>\n",
       "    <tr>\n",
       "      <th>1</th>\n",
       "      <td>Port Blair</td>\n",
       "      <td>27.20</td>\n",
       "      <td>84</td>\n",
       "      <td>4.60</td>\n",
       "      <td>100</td>\n",
       "      <td>IN</td>\n",
       "      <td>1608043389</td>\n",
       "      <td>92.75</td>\n",
       "      <td>11.67</td>\n",
       "    </tr>\n",
       "    <tr>\n",
       "      <th>4</th>\n",
       "      <td>Kathu</td>\n",
       "      <td>30.00</td>\n",
       "      <td>94</td>\n",
       "      <td>0.50</td>\n",
       "      <td>20</td>\n",
       "      <td>TH</td>\n",
       "      <td>1608043536</td>\n",
       "      <td>98.33</td>\n",
       "      <td>7.92</td>\n",
       "    </tr>\n",
       "    <tr>\n",
       "      <th>5</th>\n",
       "      <td>Karasjok</td>\n",
       "      <td>-1.00</td>\n",
       "      <td>80</td>\n",
       "      <td>3.10</td>\n",
       "      <td>75</td>\n",
       "      <td>NO</td>\n",
       "      <td>1608043537</td>\n",
       "      <td>25.51</td>\n",
       "      <td>69.47</td>\n",
       "    </tr>\n",
       "    <tr>\n",
       "      <th>8</th>\n",
       "      <td>Butaritari</td>\n",
       "      <td>27.61</td>\n",
       "      <td>79</td>\n",
       "      <td>7.27</td>\n",
       "      <td>98</td>\n",
       "      <td>KI</td>\n",
       "      <td>1608043540</td>\n",
       "      <td>172.79</td>\n",
       "      <td>3.07</td>\n",
       "    </tr>\n",
       "  </tbody>\n",
       "</table>\n",
       "</div>"
      ],
      "text/plain": [
       "         city  temp_max  humidity  wind_speed  cloudiness country        date  \\\n",
       "0        Emba     -8.70        82        2.27           0      KZ  1608043532   \n",
       "1  Port Blair     27.20        84        4.60         100      IN  1608043389   \n",
       "4       Kathu     30.00        94        0.50          20      TH  1608043536   \n",
       "5    Karasjok     -1.00        80        3.10          75      NO  1608043537   \n",
       "8  Butaritari     27.61        79        7.27          98      KI  1608043540   \n",
       "\n",
       "   longitude  latitude  \n",
       "0      58.14     48.83  \n",
       "1      92.75     11.67  \n",
       "4      98.33      7.92  \n",
       "5      25.51     69.47  \n",
       "8     172.79      3.07  "
      ]
     },
     "execution_count": 181,
     "metadata": {},
     "output_type": "execute_result"
    }
   ],
   "source": [
    "#created a new df for cities in northern hemisphere (where latitude is >0)\n",
    "northern_df = clean_data.loc[clean_data[\"latitude\"]>0]\n",
    "northern_df.head()"
   ]
  },
  {
   "cell_type": "markdown",
   "metadata": {},
   "source": [
    "####  Northern Hemisphere - Max Temp vs. Latitude Linear Regression"
   ]
  },
  {
   "cell_type": "code",
   "execution_count": 200,
   "metadata": {},
   "outputs": [
    {
     "data": {
      "image/png": "[encoded data removed]",
      "text/plain": [
       "<Figure size 432x288 with 1 Axes>"
      ]
     },
     "metadata": {
      "needs_background": "light"
     },
     "output_type": "display_data"
    },
    {
     "name": "stdout",
     "output_type": "stream",
     "text": [
      "The r-value is: -0.8341133544897493\n",
      "OBSERVATION: This scatter plot demonstrates max temperature compared to northern latitudes. Temperatures in the northern hemisphere have a strong negative correlation as latitude increases.  This can be confirmed by the correlation coefficient of -0.83\n"
     ]
    }
   ],
   "source": [
    "#created x and y axes using northen latitude and associated humidity data\n",
    "north_x = northern_df[\"temp_max\"]\n",
    "north_y = northern_df[\"latitude\"]\n",
    "#calculate regression using scipy.stats linregress\n",
    "(slope, intercept, rvalue, pvalue, stderr) = linregress(north_x, north_y)\n",
    "regress_values = north_x * slope + intercept\n",
    "#calculate regression line using standard equation\n",
    "line_eq = \"y = \" + str(round(slope,2)) + \"x + \" + str(round(intercept,2))\n",
    "#plot data\n",
    "plt.scatter(north_x, north_y, color = 'lightblue')\n",
    "plt.plot(north_x,regress_values,\"r-\")\n",
    "plt.annotate(line_eq,(6,10),fontsize=15,color=\"blue\")\n",
    "plt.xlabel(\"Max Temperature (F)\")\n",
    "plt.ylabel(\"Northern Latitudes\")\n",
    "plt.show(line_eq, rvalue)\n",
    "print(\"The r-value is:\", rvalue)\n",
    "print(\"OBSERVATION: This scatter plot demonstrates max temperature compared to northern latitudes. Temperatures in the northern hemisphere have a strong negative correlation as latitude increases.  This can be confirmed by the correlation coefficient of -0.83\")"
   ]
  },
  {
   "cell_type": "markdown",
   "metadata": {},
   "source": [
    "####  Southern Hemisphere - Max Temp vs. Latitude Linear Regression"
   ]
  },
  {
   "cell_type": "code",
   "execution_count": 183,
   "metadata": {},
   "outputs": [
    {
     "data": {
      "text/html": [
       "<div>\n",
       "<style scoped>\n",
       "    .dataframe tbody tr th:only-of-type {\n",
       "        vertical-align: middle;\n",
       "    }\n",
       "\n",
       "    .dataframe tbody tr th {\n",
       "        vertical-align: top;\n",
       "    }\n",
       "\n",
       "    .dataframe thead th {\n",
       "        text-align: right;\n",
       "    }\n",
       "</style>\n",
       "<table border=\"1\" class=\"dataframe\">\n",
       "  <thead>\n",
       "    <tr style=\"text-align: right;\">\n",
       "      <th></th>\n",
       "      <th>city</th>\n",
       "      <th>temp_max</th>\n",
       "      <th>humidity</th>\n",
       "      <th>wind_speed</th>\n",
       "      <th>cloudiness</th>\n",
       "      <th>country</th>\n",
       "      <th>date</th>\n",
       "      <th>longitude</th>\n",
       "      <th>latitude</th>\n",
       "    </tr>\n",
       "  </thead>\n",
       "  <tbody>\n",
       "    <tr>\n",
       "      <th>2</th>\n",
       "      <td>Atuona</td>\n",
       "      <td>25.81</td>\n",
       "      <td>77</td>\n",
       "      <td>9.11</td>\n",
       "      <td>7</td>\n",
       "      <td>PF</td>\n",
       "      <td>1608043534</td>\n",
       "      <td>-139.03</td>\n",
       "      <td>-9.80</td>\n",
       "    </tr>\n",
       "    <tr>\n",
       "      <th>3</th>\n",
       "      <td>Bluff</td>\n",
       "      <td>13.89</td>\n",
       "      <td>85</td>\n",
       "      <td>1.79</td>\n",
       "      <td>68</td>\n",
       "      <td>NZ</td>\n",
       "      <td>1608043535</td>\n",
       "      <td>168.33</td>\n",
       "      <td>-46.60</td>\n",
       "    </tr>\n",
       "    <tr>\n",
       "      <th>6</th>\n",
       "      <td>Pisco</td>\n",
       "      <td>21.00</td>\n",
       "      <td>83</td>\n",
       "      <td>2.10</td>\n",
       "      <td>90</td>\n",
       "      <td>PE</td>\n",
       "      <td>1608043481</td>\n",
       "      <td>-76.22</td>\n",
       "      <td>-13.70</td>\n",
       "    </tr>\n",
       "    <tr>\n",
       "      <th>7</th>\n",
       "      <td>Tapes</td>\n",
       "      <td>26.57</td>\n",
       "      <td>57</td>\n",
       "      <td>2.31</td>\n",
       "      <td>0</td>\n",
       "      <td>BR</td>\n",
       "      <td>1608043539</td>\n",
       "      <td>-51.40</td>\n",
       "      <td>-30.67</td>\n",
       "    </tr>\n",
       "    <tr>\n",
       "      <th>11</th>\n",
       "      <td>Touros</td>\n",
       "      <td>31.00</td>\n",
       "      <td>62</td>\n",
       "      <td>6.20</td>\n",
       "      <td>40</td>\n",
       "      <td>BR</td>\n",
       "      <td>1608043544</td>\n",
       "      <td>-35.46</td>\n",
       "      <td>-5.20</td>\n",
       "    </tr>\n",
       "  </tbody>\n",
       "</table>\n",
       "</div>"
      ],
      "text/plain": [
       "      city  temp_max  humidity  wind_speed  cloudiness country        date  \\\n",
       "2   Atuona     25.81        77        9.11           7      PF  1608043534   \n",
       "3    Bluff     13.89        85        1.79          68      NZ  1608043535   \n",
       "6    Pisco     21.00        83        2.10          90      PE  1608043481   \n",
       "7    Tapes     26.57        57        2.31           0      BR  1608043539   \n",
       "11  Touros     31.00        62        6.20          40      BR  1608043544   \n",
       "\n",
       "    longitude  latitude  \n",
       "2     -139.03     -9.80  \n",
       "3      168.33    -46.60  \n",
       "6      -76.22    -13.70  \n",
       "7      -51.40    -30.67  \n",
       "11     -35.46     -5.20  "
      ]
     },
     "execution_count": 183,
     "metadata": {},
     "output_type": "execute_result"
    }
   ],
   "source": [
    "#created a new df for cities in southern hemisphere (where latitude is <0)\n",
    "southern_df = clean_data.loc[clean_data[\"latitude\"]<0]\n",
    "southern_df.head()"
   ]
  },
  {
   "cell_type": "code",
   "execution_count": 201,
   "metadata": {},
   "outputs": [
    {
     "data": {
      "image/png": "[encoded data removed]",
      "text/plain": [
       "<Figure size 432x288 with 1 Axes>"
      ]
     },
     "metadata": {
      "needs_background": "light"
     },
     "output_type": "display_data"
    },
    {
     "name": "stdout",
     "output_type": "stream",
     "text": [
      "The r-value is: 0.68071618066635\n",
      "OBSERVATION: Temperatures in the southern hemisphere have a moderate to strong positive correlation as latitude increases as evidenced by the correlation coefficient of 0.68\n"
     ]
    }
   ],
   "source": [
    "#created x and y axes using northen latitude and associated humidity data\n",
    "south_x = southern_df[\"temp_max\"]\n",
    "south_y = southern_df[\"latitude\"]\n",
    "#calculate regression using scipy.stats linregress\n",
    "(slope, intercept, rvalue, pvalue, stderr) = linregress(south_x, south_y)\n",
    "regress_values = south_x * slope + intercept\n",
    "#calculate regression line using standard equation\n",
    "line_eq = \"y = \" + str(round(slope,2)) + \"x + \" + str(round(intercept,2))\n",
    "#plot data\n",
    "plt.scatter(south_x, south_y, color = 'black')\n",
    "plt.plot(south_x,regress_values,\"r-\")\n",
    "plt.annotate(line_eq,(6,10),fontsize=15,color=\"black\")\n",
    "plt.xlabel(\"Max Temperature (F)\")\n",
    "plt.ylabel(\"Southern Latitudes\")\n",
    "plt.show(line_eq, rvalue)\n",
    "print(\"The r-value is:\", rvalue)\n",
    "print(\"OBSERVATION: Temperatures in the southern hemisphere have a moderate to strong positive correlation as latitude increases as evidenced by the correlation coefficient of 0.68\")"
   ]
  },
  {
   "cell_type": "markdown",
   "metadata": {},
   "source": [
    "####  Northern Hemisphere - Humidity (%) vs. Latitude Linear Regression"
   ]
  },
  {
   "cell_type": "code",
   "execution_count": 184,
   "metadata": {},
   "outputs": [
    {
     "data": {
      "image/png": "[encoded data removed]",
      "text/plain": [
       "<Figure size 432x288 with 1 Axes>"
      ]
     },
     "metadata": {
      "needs_background": "light"
     },
     "output_type": "display_data"
    },
    {
     "name": "stdout",
     "output_type": "stream",
     "text": [
      "The r-value is: 0.3971811034439119\n",
      "OBSERVATION: Temperatures in the northern hemisphere have a strong negative correlation as latitude increases\n"
     ]
    }
   ],
   "source": [
    "north_x = northern_df[\"humidity\"]\n",
    "north_y = northern_df[\"latitude\"]\n",
    "#calculate regression using scipy.stats linregress\n",
    "(slope, intercept, rvalue, pvalue, stderr) = linregress(north_x, north_y)\n",
    "regress_values = north_x * slope + intercept\n",
    "#calculate regression line using standard equation\n",
    "line_eq = \"y = \" + str(round(slope,2)) + \"x + \" + str(round(intercept,2))\n",
    "#plot data\n",
    "plt.scatter(north_x, north_y, color = 'lightblue')\n",
    "plt.plot(north_x,regress_values,\"r-\")\n",
    "plt.annotate(line_eq,(6,10),fontsize=15,color=\"red\")\n",
    "plt.xlabel(\"Humidity\")\n",
    "plt.ylabel(\"Northern Latitudes\")\n",
    "plt.show(line_eq, rvalue)\n",
    "print(\"The r-value is:\", rvalue)\n",
    "print(\"OBSERVATION: Temperatures in the northern hemisphere have a a mild negative correlation as latitude increases.\")"
   ]
  },
  {
   "cell_type": "markdown",
   "metadata": {},
   "source": [
    "####  Southern Hemisphere - Humidity (%) vs. Latitude Linear Regression"
   ]
  },
  {
   "cell_type": "code",
   "execution_count": 211,
   "metadata": {},
   "outputs": [
    {
     "data": {
      "image/png": "[encoded data removed]",
      "text/plain": [
       "<Figure size 432x288 with 1 Axes>"
      ]
     },
     "metadata": {
      "needs_background": "light"
     },
     "output_type": "display_data"
    },
    {
     "name": "stdout",
     "output_type": "stream",
     "text": [
      "The r-value is: 0.15868869814073375\n",
      "OBSERVATION: There appears to be no correlation to humidity versus southern latitude as the R-value is close to 0\n"
     ]
    }
   ],
   "source": [
    "south_x = southern_df[\"humidity\"]\n",
    "south_y = southern_df[\"latitude\"]\n",
    "#calculate regression using scipy.stats linregress\n",
    "(slope, intercept, rvalue, pvalue, stderr) = linregress(south_x, south_y)\n",
    "regress_values = south_x * slope + intercept\n",
    "#calculate regression line using standard equation\n",
    "line_eq = \"y = \" + str(round(slope,2)) + \"x + \" + str(round(intercept,2))\n",
    "#plot data\n",
    "plt.scatter(south_x, south_y, color = 'lightblue')\n",
    "plt.plot(south_x,regress_values,\"r-\")\n",
    "plt.annotate(line_eq,(6,10),fontsize=15,color=\"red\")\n",
    "plt.xlabel(\"Humidity\")\n",
    "plt.ylabel(\"Southern Latitudes\")\n",
    "plt.show(line_eq, rvalue)\n",
    "print(\"The r-value is:\", rvalue)\n",
    "print(\"OBSERVATION: There appears to be no correlation to humidity versus southern latitude as the R-value is close to 0\")"
   ]
  },
  {
   "cell_type": "markdown",
   "metadata": {},
   "source": [
    "####  Northern Hemisphere - Cloudiness (%) vs. Latitude Linear Regression"
   ]
  },
  {
   "cell_type": "code",
   "execution_count": 210,
   "metadata": {},
   "outputs": [
    {
     "data": {
      "image/png": "[encoded data removed]",
      "text/plain": [
       "<Figure size 432x288 with 1 Axes>"
      ]
     },
     "metadata": {
      "needs_background": "light"
     },
     "output_type": "display_data"
    },
    {
     "name": "stdout",
     "output_type": "stream",
     "text": [
      "The r-value is: 0.2742638977402449\n",
      "There is a mild, positive correlation of humidity and northern latitude.\n"
     ]
    }
   ],
   "source": [
    "north_x = northern_df[\"cloudiness\"]\n",
    "north_y = northern_df[\"latitude\"]\n",
    "#calculate regression using scipy.stats linregress\n",
    "(slope, intercept, rvalue, pvalue, stderr) = linregress(north_x, north_y)\n",
    "regress_values = north_x * slope + intercept\n",
    "#calculate regression line using standard equation\n",
    "line_eq = \"y = \" + str(round(slope,2)) + \"x + \" + str(round(intercept,2))\n",
    "#plot data\n",
    "plt.scatter(north_x, north_y, color = 'lightblue')\n",
    "plt.plot(north_x,regress_values,\"r-\")\n",
    "plt.annotate(line_eq,(6,10),fontsize=15,color=\"red\")\n",
    "plt.xlabel(\"Humidity\")\n",
    "plt.ylabel(\"Northern Latitudes\")\n",
    "plt.show(line_eq, rvalue)\n",
    "print(\"The r-value is:\", rvalue)\n",
    "print(\"There is a mild, positive correlation of humidity and northern latitude.\")"
   ]
  },
  {
   "cell_type": "markdown",
   "metadata": {},
   "source": [
    "####  Southern Hemisphere - Cloudiness (%) vs. Latitude Linear Regression"
   ]
  },
  {
   "cell_type": "code",
   "execution_count": 206,
   "metadata": {},
   "outputs": [
    {
     "data": {
      "image/png": "[encoded data removed]",
      "text/plain": [
       "<Figure size 432x288 with 1 Axes>"
      ]
     },
     "metadata": {
      "needs_background": "light"
     },
     "output_type": "display_data"
    },
    {
     "name": "stdout",
     "output_type": "stream",
     "text": [
      "The r-value is: 0.3177045738164538\n",
      "OBSERVATION: There is a mildly positive correlation between cloudiness and latitude in the southern hemisphere, as evidenced by an R-value of ~0.32\n"
     ]
    }
   ],
   "source": [
    "south_x = southern_df[\"cloudiness\"]\n",
    "south_y = southern_df[\"latitude\"]\n",
    "#calculate regression using scipy.stats linregress\n",
    "(slope, intercept, rvalue, pvalue, stderr) = linregress(south_x, south_y)\n",
    "regress_values = south_x * slope + intercept\n",
    "#calculate regression line using standard equation\n",
    "line_eq = \"y = \" + str(round(slope,2)) + \"x + \" + str(round(intercept,2))\n",
    "#plot data\n",
    "plt.scatter(south_x, south_y, color = 'black')\n",
    "plt.plot(south_x,regress_values,\"r-\")\n",
    "plt.annotate(line_eq,(6,10),fontsize=15,color=\"black\")\n",
    "plt.xlabel(\"Cloudiness\")\n",
    "plt.ylabel(\"Southern Latitudes\")\n",
    "plt.show(line_eq, rvalue)\n",
    "print(\"The r-value is:\", rvalue)\n",
    "print(\"OBSERVATION: There is a mildly positive correlation between cloudiness and latitude in the southern hemisphere, as evidenced by an R-value of ~0.32\")"
   ]
  },
  {
   "cell_type": "markdown",
   "metadata": {},
   "source": [
    "####  Northern Hemisphere - Wind Speed (mph) vs. Latitude Linear Regression"
   ]
  },
  {
   "cell_type": "code",
   "execution_count": 189,
   "metadata": {},
   "outputs": [
    {
     "data": {
      "image/png": "[encoded data removed]",
      "text/plain": [
       "<Figure size 432x288 with 1 Axes>"
      ]
     },
     "metadata": {
      "needs_background": "light"
     },
     "output_type": "display_data"
    },
    {
     "name": "stdout",
     "output_type": "stream",
     "text": [
      "The r-value is: 0.0979528577568589\n"
     ]
    }
   ],
   "source": [
    "north_x = northern_df[\"wind_speed\"]\n",
    "north_y = northern_df[\"latitude\"]\n",
    "#calculate regression using scipy.stats linregress\n",
    "(slope, intercept, rvalue, pvalue, stderr) = linregress(north_x, north_y)\n",
    "regress_values = north_x * slope + intercept\n",
    "#calculate regression line using standard equation\n",
    "line_eq = \"y = \" + str(round(slope,2)) + \"x + \" + str(round(intercept,2))\n",
    "#plot data\n",
    "plt.scatter(north_x, north_y, color = 'lightblue')\n",
    "plt.plot(north_x,regress_values,\"r-\")\n",
    "plt.annotate(line_eq,(6,10),fontsize=15,color=\"red\")\n",
    "plt.xlabel(\"Wind Speed\")\n",
    "plt.ylabel(\"Northern Latitudes\")\n",
    "plt.show(line_eq, rvalue)\n",
    "print(\"The r-value is:\", rvalue)"
   ]
  },
  {
   "cell_type": "markdown",
   "metadata": {},
   "source": [
    "####  Southern Hemisphere - Wind Speed (mph) vs. Latitude Linear Regression"
   ]
  },
  {
   "cell_type": "code",
   "execution_count": 209,
   "metadata": {},
   "outputs": [
    {
     "data": {
      "image/png": "[encoded data removed]",
      "text/plain": [
       "<Figure size 432x288 with 1 Axes>"
      ]
     },
     "metadata": {
      "needs_background": "light"
     },
     "output_type": "display_data"
    },
    {
     "name": "stdout",
     "output_type": "stream",
     "text": [
      "The r-value is: -0.2753573614263376\n",
      "OBSERVATION: There is a very mild, negative correlation of wind speed and latitude in the southern hemisphere as evidenced by an R-value of -0.28\n"
     ]
    }
   ],
   "source": [
    "south_x = southern_df[\"wind_speed\"]\n",
    "south_y = southern_df[\"latitude\"]\n",
    "#calculate regression using scipy.stats linregress\n",
    "(slope, intercept, rvalue, pvalue, stderr) = linregress(south_x, south_y)\n",
    "regress_values = south_x * slope + intercept\n",
    "#calculate regression line using standard equation\n",
    "line_eq = \"y = \" + str(round(slope,2)) + \"x + \" + str(round(intercept,2))\n",
    "#plot data\n",
    "plt.scatter(south_x, south_y, color = 'black')\n",
    "plt.plot(south_x,regress_values,\"r-\")\n",
    "plt.annotate(line_eq,(6,10),fontsize=15,color=\"red\")\n",
    "plt.xlabel(\"Wind Speed\")\n",
    "plt.ylabel(\"Southern Latitudes\")\n",
    "plt.show(line_eq, rvalue)\n",
    "print(\"The r-value is:\", rvalue)\n",
    "print(\"OBSERVATION: There is a very mild, negative correlation of wind speed and latitude in the southern hemisphere as evidenced by an R-value of -0.28\")"
   ]
  },
  {
   "cell_type": "code",
   "execution_count": 191,
   "metadata": {},
   "outputs": [],
   "source": [
    "clean_data.to_csv('../weather.csv',index = False, header = True)"
   ]
  },
  {
   "cell_type": "code",
   "execution_count": null,
   "metadata": {},
   "outputs": [],
   "source": []
  }
 ],
 "metadata": {
  "anaconda-cloud": {},
  "kernel_info": {
   "name": "python3"
  },
  "kernelspec": {
   "display_name": "Python 3",
   "language": "python",
   "name": "python3"
  },
  "language_info": {
   "codemirror_mode": {
    "name": "ipython",
    "version": 3
   },
   "file_extension": ".py",
   "mimetype": "text/x-python",
   "name": "python",
   "nbconvert_exporter": "python",
   "pygments_lexer": "ipython3",
   "version": "3.8.3"
  },
  "latex_envs": {
   "LaTeX_envs_menu_present": true,
   "autoclose": false,
   "autocomplete": true,
   "bibliofile": "biblio.bib",
   "cite_by": "apalike",
   "current_citInitial": 1,
   "eqLabelWithNumbers": true,
   "eqNumInitial": 1,
   "hotkeys": {
    "equation": "Ctrl-E",
    "itemize": "Ctrl-I"
   },
   "labels_anchors": false,
   "latex_user_defs": false,
   "report_style_numbering": false,
   "user_envs_cfg": false
  },
  "nteract": {
   "version": "0.12.3"
  }
 },
 "nbformat": 4,
 "nbformat_minor": 2
}
